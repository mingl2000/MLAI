{
 "cells": [
  {
   "attachments": {},
   "cell_type": "markdown",
   "metadata": {},
   "source": [
    "### Required Discussion 16.1: Comparing Models\n",
    "\n",
    "Now that you have seen a variety of models for regression and classification problems, it is good to step back and weigh the pros and cons of these options.  In the case of classification models, there are at least three things to consider:\n",
    "\n",
    "1. Is the model good at handling imbalanced classes?\n",
    "2. Does the model train quickly?\n",
    "3. Does the model yield interpretable results?\n",
    "\n",
    "Depending on your dataset and goals, the importance of these considerations will vary from project to project.  Your goal is to review our models to this point and discuss the pros and cons of each.  Two example datasets are offered as a way to offer two very different tasks where interpretability of the model may be of differing importance."
   ]
  },
  {
   "cell_type": "markdown",
   "metadata": {},
   "source": [
    "### Data and Task\n",
    "\n",
    "Your goal is to discuss the pros and cons of Logistic Regression, Decision Trees, KNN, and SVM for the tasks below.  Consider at least the three questions above and list any additional considerations you believe are important to determining the \"best\" model for the task.  Share your response with your peers on the class discussion board.  \n",
    "\n",
    "**TASK 1**: Predicting Customer Churn\n",
    "\n",
    "Suppose you are tasked with producing a model to predict customer churn.  Which of your classification models would you use and what are the pros and cons of this model for this task?  Be sure to consider interpretability, imbalnced classes, and the speed of training.\n",
    "\n"
   ]
  },
  {
   "cell_type": "markdown",
   "metadata": {},
   "source": [
    "### Summary of phone churn analyis\n",
    "    I would like to use DecisionTreeClassifier in combination of GridSearch for this customer churn prediction :\n",
    "        - which produces highest test score 0.937650\n",
    "        - The f1-score 0.96 and recall score 0.99, precision 0.94 are best and well balanced overall. The DecisionTreeClassifier 0.95 for precision/recall/f1-score is itself impressive.\n",
    "        - This DecisionTreeClassifier with gridsearch to handle unblanced training and test data well.\n",
    "\n",
    "### Test and analysis\n",
    "- Test result with different models:\n",
    "                               model     score\n",
    "0                 LogisticRegression  0.859712\n",
    "1             DecisionTreeClassifier  0.912470\n",
    "2               KNeighborsClassifier  0.858513\n",
    "3                         SVC linear  0.850120\n",
    "4                           SVC poly  0.850120\n",
    "5                            SVC rbf  0.850120\n",
    "6                        SVC sigmoid  0.850120\n",
    "7  GridSearch DecisionTreeClassifier  0.937650\n",
    "\n",
    "- F1-score/recall/precision for grid seach of DecisionTreeClassifier\n",
    "                   precision    recall  f1-score   support\n",
    "\n",
    "       Churn       0.94      0.99      0.96       709\n",
    "   Not Churn       0.90      0.66      0.76       125\n",
    "\n",
    "- F1-score/recall/precision for DecisionTreeClassifier with default parameters:\n",
    "                    precision    recall  f1-score   support\n",
    "       Churn       0.95      0.95      0.95       709\n",
    "   Not Churn       0.70      0.72      0.71       125\n",
    "\n",
    "\n",
    "### Analysis of the test result\n",
    "    - DecisionTreeClassifier seems to produce the best test score of 0.912470\n",
    "    - GridSearchCV with DecisionTreeClassifier improves the test score even further to 0.937650\n",
    "        - The f1-score for customer churn is 0.96 and recall is 0.99\n",
    "        - This seems to handle unblanced training and test data well.\n"
   ]
  },
  {
   "cell_type": "code",
   "execution_count": 157,
   "metadata": {},
   "outputs": [],
   "source": [
    "import pandas as pd\n",
    "import matplotlib.pyplot as plt"
   ]
  },
  {
   "cell_type": "code",
   "execution_count": 158,
   "metadata": {},
   "outputs": [],
   "source": [
    "from sklearn.datasets import load_digits"
   ]
  },
  {
   "cell_type": "markdown",
   "metadata": {},
   "source": [
    "The data is loaded below.  Note that the handwritten digit data is already split into features and target (`digits`, `labels`). "
   ]
  },
  {
   "cell_type": "code",
   "execution_count": 159,
   "metadata": {},
   "outputs": [],
   "source": [
    "churn = pd.read_csv('data/telecom_churn.csv')\n",
    "digits, labels = load_digits(return_X_y=True)"
   ]
  },
  {
   "cell_type": "code",
   "execution_count": 160,
   "metadata": {},
   "outputs": [
    {
     "data": {
      "text/html": [
       "<div>\n",
       "<style scoped>\n",
       "    .dataframe tbody tr th:only-of-type {\n",
       "        vertical-align: middle;\n",
       "    }\n",
       "\n",
       "    .dataframe tbody tr th {\n",
       "        vertical-align: top;\n",
       "    }\n",
       "\n",
       "    .dataframe thead th {\n",
       "        text-align: right;\n",
       "    }\n",
       "</style>\n",
       "<table border=\"1\" class=\"dataframe\">\n",
       "  <thead>\n",
       "    <tr style=\"text-align: right;\">\n",
       "      <th></th>\n",
       "      <th>State</th>\n",
       "      <th>Account length</th>\n",
       "      <th>Area code</th>\n",
       "      <th>International plan</th>\n",
       "      <th>Voice mail plan</th>\n",
       "      <th>Number vmail messages</th>\n",
       "      <th>Total day minutes</th>\n",
       "      <th>Total day calls</th>\n",
       "      <th>Total day charge</th>\n",
       "      <th>Total eve minutes</th>\n",
       "      <th>Total eve calls</th>\n",
       "      <th>Total eve charge</th>\n",
       "      <th>Total night minutes</th>\n",
       "      <th>Total night calls</th>\n",
       "      <th>Total night charge</th>\n",
       "      <th>Total intl minutes</th>\n",
       "      <th>Total intl calls</th>\n",
       "      <th>Total intl charge</th>\n",
       "      <th>Customer service calls</th>\n",
       "      <th>Churn</th>\n",
       "    </tr>\n",
       "  </thead>\n",
       "  <tbody>\n",
       "    <tr>\n",
       "      <th>0</th>\n",
       "      <td>KS</td>\n",
       "      <td>128</td>\n",
       "      <td>415</td>\n",
       "      <td>No</td>\n",
       "      <td>Yes</td>\n",
       "      <td>25</td>\n",
       "      <td>265.1</td>\n",
       "      <td>110</td>\n",
       "      <td>45.07</td>\n",
       "      <td>197.4</td>\n",
       "      <td>99</td>\n",
       "      <td>16.78</td>\n",
       "      <td>244.7</td>\n",
       "      <td>91</td>\n",
       "      <td>11.01</td>\n",
       "      <td>10.0</td>\n",
       "      <td>3</td>\n",
       "      <td>2.70</td>\n",
       "      <td>1</td>\n",
       "      <td>False</td>\n",
       "    </tr>\n",
       "    <tr>\n",
       "      <th>1</th>\n",
       "      <td>OH</td>\n",
       "      <td>107</td>\n",
       "      <td>415</td>\n",
       "      <td>No</td>\n",
       "      <td>Yes</td>\n",
       "      <td>26</td>\n",
       "      <td>161.6</td>\n",
       "      <td>123</td>\n",
       "      <td>27.47</td>\n",
       "      <td>195.5</td>\n",
       "      <td>103</td>\n",
       "      <td>16.62</td>\n",
       "      <td>254.4</td>\n",
       "      <td>103</td>\n",
       "      <td>11.45</td>\n",
       "      <td>13.7</td>\n",
       "      <td>3</td>\n",
       "      <td>3.70</td>\n",
       "      <td>1</td>\n",
       "      <td>False</td>\n",
       "    </tr>\n",
       "    <tr>\n",
       "      <th>2</th>\n",
       "      <td>NJ</td>\n",
       "      <td>137</td>\n",
       "      <td>415</td>\n",
       "      <td>No</td>\n",
       "      <td>No</td>\n",
       "      <td>0</td>\n",
       "      <td>243.4</td>\n",
       "      <td>114</td>\n",
       "      <td>41.38</td>\n",
       "      <td>121.2</td>\n",
       "      <td>110</td>\n",
       "      <td>10.30</td>\n",
       "      <td>162.6</td>\n",
       "      <td>104</td>\n",
       "      <td>7.32</td>\n",
       "      <td>12.2</td>\n",
       "      <td>5</td>\n",
       "      <td>3.29</td>\n",
       "      <td>0</td>\n",
       "      <td>False</td>\n",
       "    </tr>\n",
       "    <tr>\n",
       "      <th>3</th>\n",
       "      <td>OH</td>\n",
       "      <td>84</td>\n",
       "      <td>408</td>\n",
       "      <td>Yes</td>\n",
       "      <td>No</td>\n",
       "      <td>0</td>\n",
       "      <td>299.4</td>\n",
       "      <td>71</td>\n",
       "      <td>50.90</td>\n",
       "      <td>61.9</td>\n",
       "      <td>88</td>\n",
       "      <td>5.26</td>\n",
       "      <td>196.9</td>\n",
       "      <td>89</td>\n",
       "      <td>8.86</td>\n",
       "      <td>6.6</td>\n",
       "      <td>7</td>\n",
       "      <td>1.78</td>\n",
       "      <td>2</td>\n",
       "      <td>False</td>\n",
       "    </tr>\n",
       "    <tr>\n",
       "      <th>4</th>\n",
       "      <td>OK</td>\n",
       "      <td>75</td>\n",
       "      <td>415</td>\n",
       "      <td>Yes</td>\n",
       "      <td>No</td>\n",
       "      <td>0</td>\n",
       "      <td>166.7</td>\n",
       "      <td>113</td>\n",
       "      <td>28.34</td>\n",
       "      <td>148.3</td>\n",
       "      <td>122</td>\n",
       "      <td>12.61</td>\n",
       "      <td>186.9</td>\n",
       "      <td>121</td>\n",
       "      <td>8.41</td>\n",
       "      <td>10.1</td>\n",
       "      <td>3</td>\n",
       "      <td>2.73</td>\n",
       "      <td>3</td>\n",
       "      <td>False</td>\n",
       "    </tr>\n",
       "  </tbody>\n",
       "</table>\n",
       "</div>"
      ],
      "text/plain": [
       "  State  Account length  Area code International plan Voice mail plan  \\\n",
       "0    KS             128        415                 No             Yes   \n",
       "1    OH             107        415                 No             Yes   \n",
       "2    NJ             137        415                 No              No   \n",
       "3    OH              84        408                Yes              No   \n",
       "4    OK              75        415                Yes              No   \n",
       "\n",
       "   Number vmail messages  Total day minutes  Total day calls  \\\n",
       "0                     25              265.1              110   \n",
       "1                     26              161.6              123   \n",
       "2                      0              243.4              114   \n",
       "3                      0              299.4               71   \n",
       "4                      0              166.7              113   \n",
       "\n",
       "   Total day charge  Total eve minutes  Total eve calls  Total eve charge  \\\n",
       "0             45.07              197.4               99             16.78   \n",
       "1             27.47              195.5              103             16.62   \n",
       "2             41.38              121.2              110             10.30   \n",
       "3             50.90               61.9               88              5.26   \n",
       "4             28.34              148.3              122             12.61   \n",
       "\n",
       "   Total night minutes  Total night calls  Total night charge  \\\n",
       "0                244.7                 91               11.01   \n",
       "1                254.4                103               11.45   \n",
       "2                162.6                104                7.32   \n",
       "3                196.9                 89                8.86   \n",
       "4                186.9                121                8.41   \n",
       "\n",
       "   Total intl minutes  Total intl calls  Total intl charge  \\\n",
       "0                10.0                 3               2.70   \n",
       "1                13.7                 3               3.70   \n",
       "2                12.2                 5               3.29   \n",
       "3                 6.6                 7               1.78   \n",
       "4                10.1                 3               2.73   \n",
       "\n",
       "   Customer service calls  Churn  \n",
       "0                       1  False  \n",
       "1                       1  False  \n",
       "2                       0  False  \n",
       "3                       2  False  \n",
       "4                       3  False  "
      ]
     },
     "execution_count": 160,
     "metadata": {},
     "output_type": "execute_result"
    }
   ],
   "source": [
    "#churn data\n",
    "churn.head()"
   ]
  },
  {
   "cell_type": "markdown",
   "metadata": {},
   "source": [
    "### Logistic regression"
   ]
  },
  {
   "cell_type": "markdown",
   "metadata": {},
   "source": [
    "#data \n",
    "- not balanced. churn vs not churn ratio is 1 to 5.9"
   ]
  },
  {
   "cell_type": "code",
   "execution_count": 161,
   "metadata": {},
   "outputs": [
    {
     "name": "stdout",
     "output_type": "stream",
     "text": [
      "Churn\n",
      "False    2850\n",
      "True      483\n",
      "Name: count, dtype: int64\n"
     ]
    }
   ],
   "source": [
    "\n",
    "### check if the data is balanced\n",
    "label_counts = churn['Churn'].value_counts()\n",
    "print(label_counts)"
   ]
  },
  {
   "cell_type": "code",
   "execution_count": 162,
   "metadata": {},
   "outputs": [],
   "source": [
    "X = churn.copy()\n",
    "X = X.drop(columns=['Churn'])\n",
    "y=churn['Churn'] \n",
    "\n"
   ]
  },
  {
   "cell_type": "code",
   "execution_count": 163,
   "metadata": {},
   "outputs": [],
   "source": [
    "from sklearn.preprocessing import PolynomialFeatures, OneHotEncoder, StandardScaler\n",
    "from sklearn.compose import make_column_transformer, make_column_selector\n",
    "from sklearn.pipeline import Pipeline\n",
    "import pandas as pd\n",
    "import seaborn as sns\n",
    "from sklearn.datasets import load_breast_cancer\n",
    "from sklearn.svm import SVC\n",
    "from sklearn.model_selection import train_test_split, GridSearchCV, RandomizedSearchCV\n",
    "\n",
    "from sklearn.linear_model import LogisticRegression\n",
    "from sklearn.dummy import DummyClassifier\n",
    "from sklearn.svm import SVC\n",
    "from sklearn.model_selection import train_test_split, GridSearchCV\n",
    "from sklearn.metrics import confusion_matrix\n",
    "from sklearn.datasets import load_wine\n",
    "from sklearn.metrics import classification_report\n",
    "import pandas as pd\n",
    "from sklearn.tree import DecisionTreeClassifier\n",
    "from sklearn.preprocessing import LabelEncoder, OneHotEncoder, FunctionTransformer\n",
    "from sklearn.compose import ColumnTransformer\n",
    "from sklearn.pipeline import Pipeline\n",
    "from sklearn.tree import DecisionTreeClassifier\n",
    "from sklearn.model_selection import train_test_split\n",
    "from sklearn.metrics import accuracy_score\n",
    "import numpy as np"
   ]
  },
  {
   "cell_type": "code",
   "execution_count": 164,
   "metadata": {},
   "outputs": [],
   "source": [
    "onehot_encoder = OneHotEncoder(drop = 'if_binary', handle_unknown='ignore')\n",
    "ohe_transformer = make_column_transformer((onehot_encoder, ['State','International plan',\t'Voice mail plan']), remainder='passthrough')\n",
    "\n"
   ]
  },
  {
   "cell_type": "code",
   "execution_count": null,
   "metadata": {},
   "outputs": [],
   "source": []
  },
  {
   "cell_type": "code",
   "execution_count": 165,
   "metadata": {},
   "outputs": [],
   "source": [
    "X_train, X_test, y_train, y_test = train_test_split(X, y, random_state = 42)"
   ]
  },
  {
   "cell_type": "code",
   "execution_count": 166,
   "metadata": {},
   "outputs": [],
   "source": [
    "df_churn_score =pd.DataFrame(columns=['model','score'])"
   ]
  },
  {
   "cell_type": "markdown",
   "metadata": {},
   "source": [
    "### LogisticRegression"
   ]
  },
  {
   "cell_type": "code",
   "execution_count": 167,
   "metadata": {},
   "outputs": [
    {
     "name": "stdout",
     "output_type": "stream",
     "text": [
      "              precision    recall  f1-score   support\n",
      "\n",
      "       Churn       0.88      0.97      0.92       709\n",
      "   Not Churn       0.58      0.24      0.34       125\n",
      "\n",
      "    accuracy                           0.86       834\n",
      "   macro avg       0.73      0.60      0.63       834\n",
      "weighted avg       0.83      0.86      0.83       834\n",
      "\n",
      "0.8597122302158273\n"
     ]
    }
   ],
   "source": [
    "\n",
    "\n",
    "pipe_lr = Pipeline([\n",
    "    ('transformer', ohe_transformer),  # Standardize the data   \n",
    "    ('scaler',StandardScaler(with_mean=False)),\n",
    "    ('lr', LogisticRegression(max_iter=1000))  # Train Logistic Regression model\n",
    "])\n",
    "\n",
    "\n",
    "pipe_lr.fit(X_train, y_train)\n",
    "y_pred = pipe_lr.predict(X_test)\n",
    "print(classification_report(y_test, y_pred, target_names=['Churn', 'Not Churn']))\n",
    "\n",
    "lr_score= pipe_lr.score(X_test, y_test)\n",
    "print(lr_score)\n",
    "df_churn_score.loc[len(df_churn_score)] = {'model':'LogisticRegression', 'score':lr_score}\n",
    "\n"
   ]
  },
  {
   "cell_type": "markdown",
   "metadata": {},
   "source": [
    "### decision trees classifier"
   ]
  },
  {
   "cell_type": "code",
   "execution_count": 168,
   "metadata": {},
   "outputs": [
    {
     "name": "stdout",
     "output_type": "stream",
     "text": [
      "              precision    recall  f1-score   support\n",
      "\n",
      "       Churn       0.95      0.93      0.94       709\n",
      "   Not Churn       0.66      0.74      0.70       125\n",
      "\n",
      "    accuracy                           0.91       834\n",
      "   macro avg       0.81      0.84      0.82       834\n",
      "weighted avg       0.91      0.91      0.91       834\n",
      "\n",
      "0.9052757793764988\n"
     ]
    }
   ],
   "source": [
    "\n",
    "df= churn.copy()\n",
    "\n",
    "df['International plan'] = df['International plan'].map({'Yes': 1, 'No': 0})\n",
    "df['Voice mail plan'] = df['Voice mail plan'].map({'Yes': 1, 'No': 0})\n",
    "df['State'] = pd.Categorical(df['State'] ).codes\n",
    "\n",
    "#print(df.head())\n",
    "y=df['Churn']\n",
    "X=df.drop(columns=['Churn'])\n",
    "X_train, X_test, y_train, y_test = train_test_split(X, y, random_state = 42)\n",
    "dt = DecisionTreeClassifier().fit(X_train, y_train)\n",
    "#dt_score =dt.score(X_test, y_test)\n",
    "y_pred = dt.predict(X_test)\n",
    "print(classification_report(y_test, y_pred, target_names=['Churn', 'Not Churn']))\n",
    "dt_score= dt.score(X_test, y_test)\n",
    "print(dt_score)\n",
    "df_churn_score.loc[len(df_churn_score)] = {'model':'DecisionTreeClassifier', 'score':dt_score}\n"
   ]
  },
  {
   "cell_type": "markdown",
   "metadata": {},
   "source": [
    "### KNN"
   ]
  },
  {
   "cell_type": "code",
   "execution_count": 169,
   "metadata": {},
   "outputs": [
    {
     "name": "stdout",
     "output_type": "stream",
     "text": [
      "              precision    recall  f1-score   support\n",
      "\n",
      "       Churn       0.88      0.96      0.92       709\n",
      "   Not Churn       0.56      0.28      0.37       125\n",
      "\n",
      "    accuracy                           0.86       834\n",
      "   macro avg       0.72      0.62      0.65       834\n",
      "weighted avg       0.83      0.86      0.84       834\n",
      "\n",
      "0.9052757793764988\n"
     ]
    }
   ],
   "source": [
    "\n",
    "from sklearn.neighbors import KNeighborsClassifier\n",
    "knn  = KNeighborsClassifier(n_neighbors=3).fit(X_train, y_train)\n",
    "y_pred = knn.predict(X_test)\n",
    "print(classification_report(y_test, y_pred, target_names=['Churn', 'Not Churn']))\n",
    "knn_score= knn.score(X_test, y_test)\n",
    "print(dt_score)\n",
    "df_churn_score.loc[len(df_churn_score)] = {'model':'KNeighborsClassifier', 'score':knn_score}"
   ]
  },
  {
   "cell_type": "markdown",
   "metadata": {},
   "source": [
    "### SVM"
   ]
  },
  {
   "cell_type": "code",
   "execution_count": 170,
   "metadata": {},
   "outputs": [
    {
     "name": "stdout",
     "output_type": "stream",
     "text": [
      "              precision    recall  f1-score   support\n",
      "\n",
      "       Churn       0.85      1.00      0.92       709\n",
      "   Not Churn       0.00      0.00      0.00       125\n",
      "\n",
      "    accuracy                           0.85       834\n",
      "   macro avg       0.43      0.50      0.46       834\n",
      "weighted avg       0.72      0.85      0.78       834\n",
      "\n",
      "0.8501199040767387\n"
     ]
    }
   ],
   "source": [
    "\n",
    "svc_linear= SVC(kernel='linear', random_state=42).fit(X_train, y_train)\n",
    "y_pred = svc_linear.predict(X_test)\n",
    "print(classification_report(y_test, y_pred, target_names=['Churn', 'Not Churn'],zero_division=0))\n",
    "svc_linear_score= svc_linear.score(X_test, y_test)\n",
    "print(svc_linear_score)\n",
    "df_churn_score.loc[len(df_churn_score)] = {'model':'SVC linear', 'score':svc_linear_score}"
   ]
  },
  {
   "cell_type": "code",
   "execution_count": 171,
   "metadata": {},
   "outputs": [
    {
     "name": "stdout",
     "output_type": "stream",
     "text": [
      "              precision    recall  f1-score   support\n",
      "\n",
      "       Churn       0.85      1.00      0.92       709\n",
      "   Not Churn       0.00      0.00      0.00       125\n",
      "\n",
      "    accuracy                           0.85       834\n",
      "   macro avg       0.43      0.50      0.46       834\n",
      "weighted avg       0.72      0.85      0.78       834\n",
      "\n",
      "0.8501199040767387\n"
     ]
    }
   ],
   "source": [
    "\n",
    "svc_poly= SVC(kernel='poly', random_state=42).fit(X_train, y_train)\n",
    "y_pred = svc_poly.predict(X_test)\n",
    "print(classification_report(y_test, y_pred, target_names=['Churn', 'Not Churn'],zero_division=0))\n",
    "\n",
    "svc_poly_score= svc_poly.score(X_test, y_test)\n",
    "print(svc_poly_score)\n",
    "df_churn_score.loc[len(df_churn_score)] = {'model':'SVC poly', 'score':svc_poly_score}"
   ]
  },
  {
   "cell_type": "code",
   "execution_count": 172,
   "metadata": {},
   "outputs": [
    {
     "name": "stdout",
     "output_type": "stream",
     "text": [
      "              precision    recall  f1-score   support\n",
      "\n",
      "       Churn       0.85      1.00      0.92       709\n",
      "   Not Churn       0.00      0.00      0.00       125\n",
      "\n",
      "    accuracy                           0.85       834\n",
      "   macro avg       0.43      0.50      0.46       834\n",
      "weighted avg       0.72      0.85      0.78       834\n",
      "\n",
      "0.8501199040767387\n"
     ]
    }
   ],
   "source": [
    "svc_rbf= SVC(kernel='rbf', random_state=42).fit(X_train, y_train)\n",
    "y_pred = svc_rbf.predict(X_test)\n",
    "print(classification_report(y_test, y_pred, target_names=['Churn', 'Not Churn'],zero_division=0))\n",
    "\n",
    "svc_rbf_score= svc_rbf.score(X_test, y_test)\n",
    "print(svc_rbf_score)\n",
    "df_churn_score.loc[len(df_churn_score)] = {'model':'SVC rbf', 'score':svc_rbf_score}\n"
   ]
  },
  {
   "cell_type": "code",
   "execution_count": 173,
   "metadata": {},
   "outputs": [
    {
     "name": "stdout",
     "output_type": "stream",
     "text": [
      "              precision    recall  f1-score   support\n",
      "\n",
      "       Churn       0.85      1.00      0.92       709\n",
      "   Not Churn       0.00      0.00      0.00       125\n",
      "\n",
      "    accuracy                           0.85       834\n",
      "   macro avg       0.43      0.50      0.46       834\n",
      "weighted avg       0.72      0.85      0.78       834\n",
      "\n",
      "0.8501199040767387\n"
     ]
    }
   ],
   "source": [
    "svc_sigmoid= SVC(kernel='sigmoid', random_state=42).fit(X_train, y_train)\n",
    "y_pred = svc_sigmoid.predict(X_test)\n",
    "print(classification_report(y_test, y_pred, target_names=['Churn', 'Not Churn'],zero_division=0))\n",
    "\n",
    "svc_sigmoid_score= svc_sigmoid.score(X_test, y_test)\n",
    "print(svc_sigmoid_score)\n",
    "df_churn_score.loc[len(df_churn_score)] = {'model':'SVC sigmoid', 'score':svc_sigmoid_score}\n"
   ]
  },
  {
   "cell_type": "markdown",
   "metadata": {},
   "source": [
    "### GridSearch "
   ]
  },
  {
   "cell_type": "code",
   "execution_count": 174,
   "metadata": {},
   "outputs": [],
   "source": [
    "### GridSearch"
   ]
  },
  {
   "cell_type": "code",
   "execution_count": 175,
   "metadata": {},
   "outputs": [
    {
     "name": "stdout",
     "output_type": "stream",
     "text": [
      "              precision    recall  f1-score   support\n",
      "\n",
      "       Churn       0.94      0.99      0.96       709\n",
      "   Not Churn       0.90      0.66      0.76       125\n",
      "\n",
      "    accuracy                           0.94       834\n",
      "   macro avg       0.92      0.82      0.86       834\n",
      "weighted avg       0.94      0.94      0.93       834\n",
      "\n"
     ]
    }
   ],
   "source": [
    "\n",
    "param_grid = {\n",
    "    'max_depth': [None, 3, 5, 10, 20],\n",
    "    'min_samples_split': [2, 5, 10],\n",
    "    'min_samples_leaf': [1, 2, 4],\n",
    "    'criterion': ['gini', 'entropy']\n",
    "}\n",
    "\n",
    "grid_dt= GridSearchCV(estimator=DecisionTreeClassifier(random_state=42), param_grid=param_grid)\n",
    "grid_dt.fit(X_train, y_train)\n",
    "grid_dt_score = grid_dt.score(X_test, y_test)\n",
    "df_churn_score.loc[len(df_churn_score)] = {'model':'GridSearch DecisionTreeClassifier', 'score':grid_dt_score}\n",
    "\n",
    "y_pred = grid_dt.predict(X_test)\n",
    "print(classification_report(y_test, y_pred, target_names=['Churn', 'Not Churn'],zero_division=0))\n"
   ]
  },
  {
   "cell_type": "markdown",
   "metadata": {},
   "source": [
    "### Test result for phone churn"
   ]
  },
  {
   "cell_type": "code",
   "execution_count": 176,
   "metadata": {},
   "outputs": [
    {
     "name": "stdout",
     "output_type": "stream",
     "text": [
      "                               model     score\n",
      "0                 LogisticRegression  0.859712\n",
      "1             DecisionTreeClassifier  0.905276\n",
      "2               KNeighborsClassifier  0.858513\n",
      "3                         SVC linear  0.850120\n",
      "4                           SVC poly  0.850120\n",
      "5                            SVC rbf  0.850120\n",
      "6                        SVC sigmoid  0.850120\n",
      "7  GridSearch DecisionTreeClassifier  0.937650\n"
     ]
    }
   ],
   "source": [
    "print(df_churn_score)"
   ]
  },
  {
   "cell_type": "markdown",
   "metadata": {},
   "source": [
    "**TASK 2**: Recognizing Handwritten Digits\n",
    "\n",
    "Suppose you are tasked with training a model to recognize handwritten digits.  Which of your classifier would you use here and why?  Again, be sure to consider the balance of classes, speed of training, and importance of interpretability.\n",
    "\n"
   ]
  },
  {
   "cell_type": "markdown",
   "metadata": {},
   "source": [
    "### Summary of  handwritten digits recognition:\n",
    "- Conclusion\n",
    "    SVC poly model will be used since it produces the best test score and the speed seems to be fast as well. The dataset seems to be balanced between different labels. \n",
    "    \n",
    "\n",
    "- Test score summary between different models tested in this section.\n",
    "0      LogisticRegression  0.971111\n",
    "1  DecisionTreeClassifier  0.868889\n",
    "2    KNeighborsClassifier  0.986667\n",
    "3              SVC linear  0.982222\n",
    "4                SVC poly  0.993333\n",
    "5                 SVC rbf  0.986667\n",
    "6             SVC sigmoid  0.911111\n",
    "7     GridSearch SVC poly  0.993333\n",
    "\n",
    "- Analysis\n",
    "    Data is balanced between different lables.\n",
    "    SVC poly produces the best test score for this test set. The speed seems to be fast as well.\n",
    "    Grid search with different degrees in SVC with 'poly' kernel did not improve the test score.\n",
    "\n"
   ]
  },
  {
   "cell_type": "code",
   "execution_count": 177,
   "metadata": {},
   "outputs": [
    {
     "data": {
      "image/png": "[encoded data removed]",
      "text/plain": [
       "<Figure size 640x480 with 1 Axes>"
      ]
     },
     "metadata": {},
     "output_type": "display_data"
    }
   ],
   "source": [
    "#example image\n",
    "plt.imshow(digits[0].reshape(8, 8))\n",
    "plt.title('This is a handwritten 0.');"
   ]
  },
  {
   "cell_type": "markdown",
   "metadata": {},
   "source": [
    "### "
   ]
  },
  {
   "cell_type": "code",
   "execution_count": 178,
   "metadata": {},
   "outputs": [
    {
     "name": "stdout",
     "output_type": "stream",
     "text": [
      "laabels\n",
      "3          183\n",
      "1          182\n",
      "5          182\n",
      "4          181\n",
      "6          181\n",
      "9          180\n",
      "7          179\n",
      "0          178\n",
      "2          177\n",
      "8          174\n",
      "Name: count, dtype: int64\n"
     ]
    }
   ],
   "source": [
    "### check if the data is balanced\n",
    "label_counts = pd.DataFrame({'laabels':labels}).value_counts()\n",
    "print(label_counts)"
   ]
  },
  {
   "cell_type": "code",
   "execution_count": 179,
   "metadata": {},
   "outputs": [],
   "source": [
    "X_train, X_test, y_train, y_test = train_test_split(digits, labels, random_state = 42)"
   ]
  },
  {
   "cell_type": "code",
   "execution_count": 180,
   "metadata": {},
   "outputs": [],
   "source": [
    "df_digit_score =pd.DataFrame(columns=['model','score'])"
   ]
  },
  {
   "cell_type": "markdown",
   "metadata": {},
   "source": [
    "### LogisticRegression"
   ]
  },
  {
   "cell_type": "code",
   "execution_count": 181,
   "metadata": {},
   "outputs": [
    {
     "name": "stdout",
     "output_type": "stream",
     "text": [
      "0.9711111111111111\n"
     ]
    }
   ],
   "source": [
    "pipe_lr = Pipeline([\n",
    "    ('scaler',StandardScaler(with_mean=False)),\n",
    "    ('lr', LogisticRegression(max_iter=1000))  # Train Logistic Regression model\n",
    "])\n",
    "\n",
    "\n",
    "pipe_lr.fit(X_train, y_train)\n",
    "lg_score= pipe_lr.score(X_test, y_test)\n",
    "print(lg_score)\n",
    "df_digit_score.loc[len(df_digit_score)] = {'model':'LogisticRegression', 'score':lg_score}\n",
    "#print(df_digit_score)\n",
    "\n"
   ]
  },
  {
   "cell_type": "markdown",
   "metadata": {},
   "source": [
    "###  Decision tree"
   ]
  },
  {
   "cell_type": "code",
   "execution_count": 182,
   "metadata": {},
   "outputs": [
    {
     "name": "stdout",
     "output_type": "stream",
     "text": [
      "0.8733333333333333\n"
     ]
    }
   ],
   "source": [
    "\n",
    "dt = DecisionTreeClassifier().fit(X_train, y_train)\n",
    "dt_score= dt.score(X_test, y_test)\n",
    "print(dt_score)\n",
    "df_digit_score.loc[len(df_digit_score)] = {'model':'DecisionTreeClassifier', 'score':dt_score}\n"
   ]
  },
  {
   "cell_type": "markdown",
   "metadata": {},
   "source": [
    "### KNN"
   ]
  },
  {
   "cell_type": "code",
   "execution_count": 183,
   "metadata": {},
   "outputs": [
    {
     "name": "stdout",
     "output_type": "stream",
     "text": [
      "0.9866666666666667\n"
     ]
    }
   ],
   "source": [
    "from sklearn.neighbors import KNeighborsClassifier\n",
    "knn  = KNeighborsClassifier(n_neighbors=3).fit(X_train, y_train)\n",
    "knn_score= knn.score(X_test, y_test)\n",
    "print(knn_score)\n",
    "\n",
    "df_digit_score.loc[len(df_digit_score)] = {'model':'KNeighborsClassifier', 'score':knn_score}"
   ]
  },
  {
   "cell_type": "markdown",
   "metadata": {},
   "source": [
    "### SVC linear"
   ]
  },
  {
   "cell_type": "code",
   "execution_count": 184,
   "metadata": {},
   "outputs": [
    {
     "name": "stdout",
     "output_type": "stream",
     "text": [
      "0.9822222222222222\n"
     ]
    }
   ],
   "source": [
    "svc_linear= SVC(kernel='linear', random_state=42).fit(X_train, y_train)\n",
    "svc_linear_score= svc_linear.score(X_test, y_test)\n",
    "print(svc_linear_score)\n",
    "df_digit_score.loc[len(df_digit_score)] = {'model':'SVC linear', 'score':svc_linear_score}"
   ]
  },
  {
   "cell_type": "code",
   "execution_count": 185,
   "metadata": {},
   "outputs": [
    {
     "name": "stdout",
     "output_type": "stream",
     "text": [
      "0.9933333333333333\n"
     ]
    }
   ],
   "source": [
    "svc_poly= SVC(kernel='poly', random_state=42).fit(X_train, y_train)\n",
    "svc_poly_score= svc_poly.score(X_test, y_test)\n",
    "print(svc_poly_score)\n",
    "df_digit_score.loc[len(df_digit_score)] = {'model':'SVC poly', 'score':svc_poly_score}"
   ]
  },
  {
   "cell_type": "code",
   "execution_count": 186,
   "metadata": {},
   "outputs": [
    {
     "name": "stdout",
     "output_type": "stream",
     "text": [
      "0.9866666666666667\n"
     ]
    }
   ],
   "source": [
    "svc_rbf= SVC(kernel='rbf', random_state=42).fit(X_train, y_train)\n",
    "svc_rbf_score= svc_rbf.score(X_test, y_test)\n",
    "print(svc_rbf_score)\n",
    "df_digit_score.loc[len(df_digit_score)] = {'model':'SVC rbf', 'score':svc_rbf_score}"
   ]
  },
  {
   "cell_type": "code",
   "execution_count": 187,
   "metadata": {},
   "outputs": [
    {
     "name": "stdout",
     "output_type": "stream",
     "text": [
      "0.9111111111111111\n"
     ]
    }
   ],
   "source": [
    "svc_sigmoid= SVC(kernel='sigmoid', random_state=42).fit(X_train, y_train)\n",
    "svc_sigmoid_score= svc_sigmoid.score(X_test, y_test)\n",
    "print(svc_sigmoid_score)\n",
    "df_digit_score.loc[len(df_digit_score)] = {'model':'SVC sigmoid', 'score':svc_sigmoid_score}"
   ]
  },
  {
   "cell_type": "markdown",
   "metadata": {},
   "source": [
    "### Grid search for SVC with kernel poly with different powers"
   ]
  },
  {
   "cell_type": "code",
   "execution_count": 188,
   "metadata": {},
   "outputs": [],
   "source": [
    "grid_svc_poly= GridSearchCV(estimator=SVC(kernel='poly', random_state=42), param_grid={'degree':range(3,20)})\n",
    "grid_svc_poly.fit(X_train, y_train)\n",
    "grid_svc_poly_score = grid_svc_poly.score(X_test, y_test)\n",
    "df_digit_score.loc[len(df_digit_score)] = {'model':'GridSearch SVC poly', 'score':grid_svc_poly_score}\n"
   ]
  },
  {
   "cell_type": "markdown",
   "metadata": {},
   "source": [
    "### Test result for digital recognition"
   ]
  },
  {
   "cell_type": "code",
   "execution_count": 189,
   "metadata": {},
   "outputs": [
    {
     "name": "stdout",
     "output_type": "stream",
     "text": [
      "                    model     score\n",
      "0      LogisticRegression  0.971111\n",
      "1  DecisionTreeClassifier  0.873333\n",
      "2    KNeighborsClassifier  0.986667\n",
      "3              SVC linear  0.982222\n",
      "4                SVC poly  0.993333\n",
      "5                 SVC rbf  0.986667\n",
      "6             SVC sigmoid  0.911111\n",
      "7     GridSearch SVC poly  0.993333\n"
     ]
    }
   ],
   "source": [
    "print(df_digit_score)"
   ]
  },
  {
   "cell_type": "code",
   "execution_count": 190,
   "metadata": {},
   "outputs": [],
   "source": [
    "\n",
    "\n",
    "#print(classification_report(y_test, grid_predictions))\n"
   ]
  }
 ],
 "metadata": {
  "kernelspec": {
   "display_name": "base",
   "language": "python",
   "name": "python3"
  },
  "language_info": {
   "codemirror_mode": {
    "name": "ipython",
    "version": 3
   },
   "file_extension": ".py",
   "mimetype": "text/x-python",
   "name": "python",
   "nbconvert_exporter": "python",
   "pygments_lexer": "ipython3",
   "version": "3.12.9"
  }
 },
 "nbformat": 4,
 "nbformat_minor": 4
}
